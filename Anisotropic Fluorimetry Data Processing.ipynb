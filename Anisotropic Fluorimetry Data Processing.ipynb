{
 "cells": [
  {
   "cell_type": "code",
   "execution_count": 1,
   "id": "2e455cfc",
   "metadata": {},
   "outputs": [],
   "source": [
    "import numpy as np\n",
    "import pandas as pd"
   ]
  },
  {
   "cell_type": "code",
   "execution_count": 2,
   "id": "10066ddf",
   "metadata": {},
   "outputs": [],
   "source": [
    "def intensity(excelFile):\n",
    "    df = pd.read_excel(excelFile)\n",
    "    intensity = df[\"Intensity\"]\n",
    "    wavelengthRange = df[\"EmissionWavelength (nm)\"]\n",
    "    return intensity"
   ]
  },
  {
   "cell_type": "code",
   "execution_count": 3,
   "id": "111b8907",
   "metadata": {},
   "outputs": [],
   "source": [
    "def gCalc(sampleDictionary):\n",
    "    gFactor = (sampleDictionary['standHV'] - sampleDictionary['blankHV']) / (sampleDictionary['standHH'] - sampleDictionary['blankHH'])\n",
    "    return gFactor"
   ]
  },
  {
   "cell_type": "code",
   "execution_count": 4,
   "id": "262b4763",
   "metadata": {},
   "outputs": [],
   "source": [
    "def rCalc(sampleDictionary, gFactor, intensityVV, intensityVH):\n",
    "    rFactor = ((intensityVV - sampleDictionary['blankVV']) - gFactor*(intensityVH - sampleDictionary['blankVH'])) / ((intensityVV - sampleDictionary['blankVV']) + 2*gFactor*(intensityVH - sampleDictionary['blankVH']))\n",
    "    return rFactor"
   ]
  },
  {
   "cell_type": "code",
   "execution_count": 9,
   "id": "73289050",
   "metadata": {},
   "outputs": [
    {
     "name": "stdout",
     "output_type": "stream",
     "text": [
      "['/Users/cmoore4/Desktop/Tetrad_2020/Narlikar\\\\ Rotation/610RNAfl_hHP1a_forCamille_trialfitting/buffer3_emscan_485ex_15V_VV.xls', '/Users/cmoore4/Desktop/Tetrad_2020/Narlikar\\\\ Rotation/610RNAfl_hHP1a_forCamille_trialfitting/buffer3_emscan_485ex_15V_VH.xls', '/Users/cmoore4/Desktop/Tetrad_2020/Narlikar\\\\ Rotation/610RNAfl_hHP1a_forCamille_trialfitting/buffer3_emscan_485ex_15V_HV.xls', '/Users/cmoore4/Desktop/Tetrad_2020/Narlikar\\\\ Rotation/610RNAfl_hHP1a_forCamille_trialfitting/buffer3_emscan_485ex_15V_HH.xls', '/Users/cmoore4/Desktop/Tetrad_2020/Narlikar\\\\ Rotation/610RNAfl_hHP1a_forCamille_trialfitting/610RNAfl_emscan_485ex_15V_HV.xls', '/Users/cmoore4/Desktop/Tetrad_2020/Narlikar\\\\ Rotation/610RNAfl_hHP1a_forCamille_trialfitting/610RNAfl_emscan_485ex_15V_HH.xls', '/Users/cmoore4/Desktop/Tetrad_2020/Narlikar\\\\ Rotation/610RNAfl_hHP1a_forCamille_trialfitting/610RNAfl_emscan_485ex_15V_VV.xls', '/Users/cmoore4/Desktop/Tetrad_2020/Narlikar\\\\ Rotation/610RNAfl_hHP1a_forCamille_trialfitting/610RNAfl_emscan_485ex_15V_VH.xls', '/Users/cmoore4/Desktop/Tetrad_2020/Narlikar\\\\ Rotation/610RNAfl_hHP1a_forCamille_trialfitting/610RNAfl_0.05uMHP1a_emscan_485ex_15V_VV.xls', '/Users/cmoore4/Desktop/Tetrad_2020/Narlikar\\\\ Rotation/610RNAfl_hHP1a_forCamille_trialfitting/610RNAfl_0.05uMHP1a_emscan_485ex_15V_VH.xls', '/Users/cmoore4/Desktop/Tetrad_2020/Narlikar\\\\ Rotation/610RNAfl_hHP1a_forCamille_trialfitting/610RNAfl_0.10uMHP1a_emscan_485ex_15V_VV.xls', '/Users/cmoore4/Desktop/Tetrad_2020/Narlikar\\\\ Rotation/610RNAfl_hHP1a_forCamille_trialfitting/610RNAfl_0.10uMHP1a_emscan_485ex_15V_VH.xls', '/Users/cmoore4/Desktop/Tetrad_2020/Narlikar\\\\ Rotation/610RNAfl_hHP1a_forCamille_trialfitting/610RNAfl_0.25uMHP1a_emscan_485ex_15V_VV.xls', '/Users/cmoore4/Desktop/Tetrad_2020/Narlikar\\\\ Rotation/610RNAfl_hHP1a_forCamille_trialfitting/610RNAfl_0.25uMHP1a_emscan_485ex_15V_VH.xls', '/Users/cmoore4/Desktop/Tetrad_2020/Narlikar\\\\ Rotation/610RNAfl_hHP1a_forCamille_trialfitting/610RNAfl_0.50uMHP1a_emscan_485ex_15V_VV.xls', '/Users/cmoore4/Desktop/Tetrad_2020/Narlikar\\\\ Rotation/610RNAfl_hHP1a_forCamille_trialfitting/610RNAfl_0.50uMHP1a_emscan_485ex_15V_VH.xls', '/Users/cmoore4/Desktop/Tetrad_2020/Narlikar\\\\ Rotation/610RNAfl_hHP1a_forCamille_trialfitting/610RNAfl_0.75uMHP1a_emscan_485ex_15V_VV.xls', '/Users/cmoore4/Desktop/Tetrad_2020/Narlikar\\\\ Rotation/610RNAfl_hHP1a_forCamille_trialfitting/610RNAfl_0.75uMHP1a_emscan_485ex_15V_VH.xls', '/Users/cmoore4/Desktop/Tetrad_2020/Narlikar\\\\ Rotation/610RNAfl_hHP1a_forCamille_trialfitting/610RNAfl_1.5uMHP1a_emscan_485ex_15V_VV.xls', '/Users/cmoore4/Desktop/Tetrad_2020/Narlikar\\\\ Rotation/610RNAfl_hHP1a_forCamille_trialfitting/610RNAfl_1.5uMHP1a_emscan_485ex_15V_VH.xls', '/Users/cmoore4/Desktop/Tetrad_2020/Narlikar\\\\ Rotation/610RNAfl_hHP1a_forCamille_trialfitting/610RNAfl_3.0uMHP1a_emscan_485ex_15V_VV.xls', '/Users/cmoore4/Desktop/Tetrad_2020/Narlikar\\\\ Rotation/610RNAfl_hHP1a_forCamille_trialfitting/610RNAfl_3.0uMHP1a_emscan_485ex_15V_VH.xls', '/Users/cmoore4/Desktop/Tetrad_2020/Narlikar\\\\ Rotation/610RNAfl_hHP1a_forCamille_trialfitting/610RNAfl_6.0uMHP1a_emscan_485ex_15V_VV.xls', '/Users/cmoore4/Desktop/Tetrad_2020/Narlikar\\\\ Rotation/610RNAfl_hHP1a_forCamille_trialfitting/610RNAfl_6.0uMHP1a_emscan_485ex_15V_VH.xls', '/Users/cmoore4/Desktop/Tetrad_2020/Narlikar\\\\ Rotation/610RNAfl_hHP1a_forCamille_trialfitting/610RNAfl_10.0uMHP1a_emscan_485ex_15V_VV.xls', '/Users/cmoore4/Desktop/Tetrad_2020/Narlikar\\\\ Rotation/610RNAfl_hHP1a_forCamille_trialfitting/610RNAfl_10.0uMHP1a_emscan_485ex_15V_VH.xls', '/Users/cmoore4/Desktop/Tetrad_2020/Narlikar\\\\ Rotation/610RNAfl_hHP1a_forCamille_trialfitting/610RNAfl_25.0uMHP1a_emscan_485ex_15V_VV.xls', '/Users/cmoore4/Desktop/Tetrad_2020/Narlikar\\\\ Rotation/610RNAfl_hHP1a_forCamille_trialfitting/610RNAfl_25.0uMHP1a_emscan_485ex_15V_VH.xls', '/Users/cmoore4/Desktop/Tetrad_2020/Narlikar\\\\ Rotation/610RNAfl_hHP1a_forCamille_trialfitting/610RNAfl_50uMHP1a_emscan_485ex_15V_VV.xls', '/Users/cmoore4/Desktop/Tetrad_2020/Narlikar\\\\ Rotation/610RNAfl_hHP1a_forCamille_trialfitting/610RNAfl_50uMHP1a_emscan_485ex_15V_VH.xls']\n"
     ]
    },
    {
     "ename": "FileNotFoundError",
     "evalue": "[Errno 2] No such file or directory: '/Users/cmoore4/Desktop/Tetrad_2020/Narlikar\\\\ Rotation/610RNAfl_hHP1a_forCamille_trialfitting/buffer3_emscan_485ex_15V_VV.xls'",
     "output_type": "error",
     "traceback": [
      "\u001b[0;31m---------------------------------------------------------------------------\u001b[0m",
      "\u001b[0;31mFileNotFoundError\u001b[0m                         Traceback (most recent call last)",
      "\u001b[0;32m<ipython-input-9-7082af3c6410>\u001b[0m in \u001b[0;36m<module>\u001b[0;34m\u001b[0m\n\u001b[1;32m     17\u001b[0m     \u001b[0;32mif\u001b[0m \u001b[0mfiles\u001b[0m\u001b[0;34m.\u001b[0m\u001b[0mindex\u001b[0m\u001b[0;34m(\u001b[0m\u001b[0mfileName\u001b[0m\u001b[0;34m)\u001b[0m \u001b[0;34m<\u001b[0m \u001b[0;36m6\u001b[0m\u001b[0;34m:\u001b[0m\u001b[0;34m\u001b[0m\u001b[0;34m\u001b[0m\u001b[0m\n\u001b[1;32m     18\u001b[0m         \u001b[0mname\u001b[0m \u001b[0;34m=\u001b[0m \u001b[0morder\u001b[0m\u001b[0;34m[\u001b[0m\u001b[0mfiles\u001b[0m\u001b[0;34m.\u001b[0m\u001b[0mindex\u001b[0m\u001b[0;34m(\u001b[0m\u001b[0mfileName\u001b[0m\u001b[0;34m)\u001b[0m\u001b[0;34m]\u001b[0m\u001b[0;34m\u001b[0m\u001b[0;34m\u001b[0m\u001b[0m\n\u001b[0;32m---> 19\u001b[0;31m         \u001b[0msampleDictionary\u001b[0m\u001b[0;34m[\u001b[0m\u001b[0mname\u001b[0m\u001b[0;34m]\u001b[0m \u001b[0;34m=\u001b[0m \u001b[0mintensity\u001b[0m\u001b[0;34m(\u001b[0m\u001b[0mfileName\u001b[0m\u001b[0;34m)\u001b[0m\u001b[0;34m\u001b[0m\u001b[0;34m\u001b[0m\u001b[0m\n\u001b[0m\u001b[1;32m     20\u001b[0m         \u001b[0;32mcontinue\u001b[0m\u001b[0;34m\u001b[0m\u001b[0;34m\u001b[0m\u001b[0m\n\u001b[1;32m     21\u001b[0m \u001b[0;34m\u001b[0m\u001b[0m\n",
      "\u001b[0;32m<ipython-input-2-127592403aaa>\u001b[0m in \u001b[0;36mintensity\u001b[0;34m(excelFile)\u001b[0m\n\u001b[1;32m      1\u001b[0m \u001b[0;32mdef\u001b[0m \u001b[0mintensity\u001b[0m\u001b[0;34m(\u001b[0m\u001b[0mexcelFile\u001b[0m\u001b[0;34m)\u001b[0m\u001b[0;34m:\u001b[0m\u001b[0;34m\u001b[0m\u001b[0;34m\u001b[0m\u001b[0m\n\u001b[0;32m----> 2\u001b[0;31m     \u001b[0mdf\u001b[0m \u001b[0;34m=\u001b[0m \u001b[0mpd\u001b[0m\u001b[0;34m.\u001b[0m\u001b[0mread_excel\u001b[0m\u001b[0;34m(\u001b[0m\u001b[0mexcelFile\u001b[0m\u001b[0;34m)\u001b[0m\u001b[0;34m\u001b[0m\u001b[0;34m\u001b[0m\u001b[0m\n\u001b[0m\u001b[1;32m      3\u001b[0m     \u001b[0mintensity\u001b[0m \u001b[0;34m=\u001b[0m \u001b[0mdf\u001b[0m\u001b[0;34m[\u001b[0m\u001b[0;34m\"Intensity\"\u001b[0m\u001b[0;34m]\u001b[0m\u001b[0;34m\u001b[0m\u001b[0;34m\u001b[0m\u001b[0m\n\u001b[1;32m      4\u001b[0m     \u001b[0mwavelengthRange\u001b[0m \u001b[0;34m=\u001b[0m \u001b[0mdf\u001b[0m\u001b[0;34m[\u001b[0m\u001b[0;34m\"EmissionWavelength (nm)\"\u001b[0m\u001b[0;34m]\u001b[0m\u001b[0;34m\u001b[0m\u001b[0;34m\u001b[0m\u001b[0m\n\u001b[1;32m      5\u001b[0m     \u001b[0;32mreturn\u001b[0m \u001b[0mwavelengthRange\u001b[0m\u001b[0;34m,\u001b[0m \u001b[0mintensity\u001b[0m\u001b[0;34m\u001b[0m\u001b[0;34m\u001b[0m\u001b[0m\n",
      "\u001b[0;32m~/anaconda3/envs/fraser_pdb/lib/python3.9/site-packages/pandas/util/_decorators.py\u001b[0m in \u001b[0;36mwrapper\u001b[0;34m(*args, **kwargs)\u001b[0m\n\u001b[1;32m    297\u001b[0m                 )\n\u001b[1;32m    298\u001b[0m                 \u001b[0mwarnings\u001b[0m\u001b[0;34m.\u001b[0m\u001b[0mwarn\u001b[0m\u001b[0;34m(\u001b[0m\u001b[0mmsg\u001b[0m\u001b[0;34m,\u001b[0m \u001b[0mFutureWarning\u001b[0m\u001b[0;34m,\u001b[0m \u001b[0mstacklevel\u001b[0m\u001b[0;34m=\u001b[0m\u001b[0mstacklevel\u001b[0m\u001b[0;34m)\u001b[0m\u001b[0;34m\u001b[0m\u001b[0;34m\u001b[0m\u001b[0m\n\u001b[0;32m--> 299\u001b[0;31m             \u001b[0;32mreturn\u001b[0m \u001b[0mfunc\u001b[0m\u001b[0;34m(\u001b[0m\u001b[0;34m*\u001b[0m\u001b[0margs\u001b[0m\u001b[0;34m,\u001b[0m \u001b[0;34m**\u001b[0m\u001b[0mkwargs\u001b[0m\u001b[0;34m)\u001b[0m\u001b[0;34m\u001b[0m\u001b[0;34m\u001b[0m\u001b[0m\n\u001b[0m\u001b[1;32m    300\u001b[0m \u001b[0;34m\u001b[0m\u001b[0m\n\u001b[1;32m    301\u001b[0m         \u001b[0;32mreturn\u001b[0m \u001b[0mwrapper\u001b[0m\u001b[0;34m\u001b[0m\u001b[0;34m\u001b[0m\u001b[0m\n",
      "\u001b[0;32m~/anaconda3/envs/fraser_pdb/lib/python3.9/site-packages/pandas/io/excel/_base.py\u001b[0m in \u001b[0;36mread_excel\u001b[0;34m(io, sheet_name, header, names, index_col, usecols, squeeze, dtype, engine, converters, true_values, false_values, skiprows, nrows, na_values, keep_default_na, na_filter, verbose, parse_dates, date_parser, thousands, comment, skipfooter, convert_float, mangle_dupe_cols, storage_options)\u001b[0m\n\u001b[1;32m    334\u001b[0m     \u001b[0;32mif\u001b[0m \u001b[0;32mnot\u001b[0m \u001b[0misinstance\u001b[0m\u001b[0;34m(\u001b[0m\u001b[0mio\u001b[0m\u001b[0;34m,\u001b[0m \u001b[0mExcelFile\u001b[0m\u001b[0;34m)\u001b[0m\u001b[0;34m:\u001b[0m\u001b[0;34m\u001b[0m\u001b[0;34m\u001b[0m\u001b[0m\n\u001b[1;32m    335\u001b[0m         \u001b[0mshould_close\u001b[0m \u001b[0;34m=\u001b[0m \u001b[0;32mTrue\u001b[0m\u001b[0;34m\u001b[0m\u001b[0;34m\u001b[0m\u001b[0m\n\u001b[0;32m--> 336\u001b[0;31m         \u001b[0mio\u001b[0m \u001b[0;34m=\u001b[0m \u001b[0mExcelFile\u001b[0m\u001b[0;34m(\u001b[0m\u001b[0mio\u001b[0m\u001b[0;34m,\u001b[0m \u001b[0mstorage_options\u001b[0m\u001b[0;34m=\u001b[0m\u001b[0mstorage_options\u001b[0m\u001b[0;34m,\u001b[0m \u001b[0mengine\u001b[0m\u001b[0;34m=\u001b[0m\u001b[0mengine\u001b[0m\u001b[0;34m)\u001b[0m\u001b[0;34m\u001b[0m\u001b[0;34m\u001b[0m\u001b[0m\n\u001b[0m\u001b[1;32m    337\u001b[0m     \u001b[0;32melif\u001b[0m \u001b[0mengine\u001b[0m \u001b[0;32mand\u001b[0m \u001b[0mengine\u001b[0m \u001b[0;34m!=\u001b[0m \u001b[0mio\u001b[0m\u001b[0;34m.\u001b[0m\u001b[0mengine\u001b[0m\u001b[0;34m:\u001b[0m\u001b[0;34m\u001b[0m\u001b[0;34m\u001b[0m\u001b[0m\n\u001b[1;32m    338\u001b[0m         raise ValueError(\n",
      "\u001b[0;32m~/anaconda3/envs/fraser_pdb/lib/python3.9/site-packages/pandas/io/excel/_base.py\u001b[0m in \u001b[0;36m__init__\u001b[0;34m(self, path_or_buffer, engine, storage_options)\u001b[0m\n\u001b[1;32m   1069\u001b[0m                 \u001b[0mext\u001b[0m \u001b[0;34m=\u001b[0m \u001b[0;34m\"xls\"\u001b[0m\u001b[0;34m\u001b[0m\u001b[0;34m\u001b[0m\u001b[0m\n\u001b[1;32m   1070\u001b[0m             \u001b[0;32melse\u001b[0m\u001b[0;34m:\u001b[0m\u001b[0;34m\u001b[0m\u001b[0;34m\u001b[0m\u001b[0m\n\u001b[0;32m-> 1071\u001b[0;31m                 ext = inspect_excel_format(\n\u001b[0m\u001b[1;32m   1072\u001b[0m                     \u001b[0mcontent\u001b[0m\u001b[0;34m=\u001b[0m\u001b[0mpath_or_buffer\u001b[0m\u001b[0;34m,\u001b[0m \u001b[0mstorage_options\u001b[0m\u001b[0;34m=\u001b[0m\u001b[0mstorage_options\u001b[0m\u001b[0;34m\u001b[0m\u001b[0;34m\u001b[0m\u001b[0m\n\u001b[1;32m   1073\u001b[0m                 )\n",
      "\u001b[0;32m~/anaconda3/envs/fraser_pdb/lib/python3.9/site-packages/pandas/io/excel/_base.py\u001b[0m in \u001b[0;36minspect_excel_format\u001b[0;34m(path, content, storage_options)\u001b[0m\n\u001b[1;32m    947\u001b[0m     \u001b[0;32massert\u001b[0m \u001b[0mcontent_or_path\u001b[0m \u001b[0;32mis\u001b[0m \u001b[0;32mnot\u001b[0m \u001b[0;32mNone\u001b[0m\u001b[0;34m\u001b[0m\u001b[0;34m\u001b[0m\u001b[0m\n\u001b[1;32m    948\u001b[0m \u001b[0;34m\u001b[0m\u001b[0m\n\u001b[0;32m--> 949\u001b[0;31m     with get_handle(\n\u001b[0m\u001b[1;32m    950\u001b[0m         \u001b[0mcontent_or_path\u001b[0m\u001b[0;34m,\u001b[0m \u001b[0;34m\"rb\"\u001b[0m\u001b[0;34m,\u001b[0m \u001b[0mstorage_options\u001b[0m\u001b[0;34m=\u001b[0m\u001b[0mstorage_options\u001b[0m\u001b[0;34m,\u001b[0m \u001b[0mis_text\u001b[0m\u001b[0;34m=\u001b[0m\u001b[0;32mFalse\u001b[0m\u001b[0;34m\u001b[0m\u001b[0;34m\u001b[0m\u001b[0m\n\u001b[1;32m    951\u001b[0m     ) as handle:\n",
      "\u001b[0;32m~/anaconda3/envs/fraser_pdb/lib/python3.9/site-packages/pandas/io/common.py\u001b[0m in \u001b[0;36mget_handle\u001b[0;34m(path_or_buf, mode, encoding, compression, memory_map, is_text, errors, storage_options)\u001b[0m\n\u001b[1;32m    649\u001b[0m         \u001b[0;32melse\u001b[0m\u001b[0;34m:\u001b[0m\u001b[0;34m\u001b[0m\u001b[0;34m\u001b[0m\u001b[0m\n\u001b[1;32m    650\u001b[0m             \u001b[0;31m# Binary mode\u001b[0m\u001b[0;34m\u001b[0m\u001b[0;34m\u001b[0m\u001b[0;34m\u001b[0m\u001b[0m\n\u001b[0;32m--> 651\u001b[0;31m             \u001b[0mhandle\u001b[0m \u001b[0;34m=\u001b[0m \u001b[0mopen\u001b[0m\u001b[0;34m(\u001b[0m\u001b[0mhandle\u001b[0m\u001b[0;34m,\u001b[0m \u001b[0mioargs\u001b[0m\u001b[0;34m.\u001b[0m\u001b[0mmode\u001b[0m\u001b[0;34m)\u001b[0m\u001b[0;34m\u001b[0m\u001b[0;34m\u001b[0m\u001b[0m\n\u001b[0m\u001b[1;32m    652\u001b[0m         \u001b[0mhandles\u001b[0m\u001b[0;34m.\u001b[0m\u001b[0mappend\u001b[0m\u001b[0;34m(\u001b[0m\u001b[0mhandle\u001b[0m\u001b[0;34m)\u001b[0m\u001b[0;34m\u001b[0m\u001b[0;34m\u001b[0m\u001b[0m\n\u001b[1;32m    653\u001b[0m \u001b[0;34m\u001b[0m\u001b[0m\n",
      "\u001b[0;31mFileNotFoundError\u001b[0m: [Errno 2] No such file or directory: '/Users/cmoore4/Desktop/Tetrad_2020/Narlikar\\\\ Rotation/610RNAfl_hHP1a_forCamille_trialfitting/buffer3_emscan_485ex_15V_VV.xls'"
     ]
    }
   ],
   "source": [
    "csv = open('fileNames.csv')\n",
    "order = ['blankVV', 'blankVH', 'blankHV', 'blankHH', 'standHV', 'standHH']\n",
    "concentration = ['0','.05', '.1','.25','.5','.75','1.5', '3', '6', '10', '25', '50']\n",
    "count = 0\n",
    "sampleDictionary = {}\n",
    "ugh = {} #will have concentration --> rvalue\n",
    "files = [] #list of all filenames from csv\n",
    "\n",
    "for fileName in csv:\n",
    "    files.append(fileName.strip())\n",
    "    continue\n",
    "\n",
    "csv.close()\n",
    "\n",
    "print(files)\n",
    "for fileName in files:\n",
    "    if files.index(fileName) < 6:\n",
    "        name = order[files.index(fileName)]\n",
    "        sampleDictionary[name] = intensity(fileName)\n",
    "        continue\n",
    "        \n",
    "    gFactor = gCalc(sampleDictionary)\n",
    "    \n",
    "    #now deal with samples\n",
    "    \n",
    "    if files.index(fileName) >= 6 and files.index(fileName) % 2 == 0: \n",
    "        concIndex = files.index(fileName) - 6 #index in the concentrations list\n",
    "        sampleConc = concentration[conc]\n",
    "        intensityVV = intensity(fileName)\n",
    "        \n",
    "        nextFileName = files[files.index(fileName) + 1]\n",
    "        intensityVH = intensity(nextFileName)\n",
    "        \n",
    "        \n",
    "        #now calculate r distribution for each sample and add that value to a dictionary with sample concentrations as keys\n",
    "        rVal = rCalc(sampleDictionary, gFactor, intensityVV, intensityVH)\n",
    "        ugh[sampleConc] = rVal\n",
    "        continue\n",
    "\n",
    "print(ugh)\n",
    "\n",
    "    \n",
    "        \n",
    "            \n",
    "   \n",
    "        \n",
    "    \n",
    "    "
   ]
  },
  {
   "cell_type": "code",
   "execution_count": null,
   "id": "8ecaed95",
   "metadata": {},
   "outputs": [],
   "source": []
  }
 ],
 "metadata": {
  "kernelspec": {
   "display_name": "Python 3",
   "language": "python",
   "name": "python3"
  },
  "language_info": {
   "codemirror_mode": {
    "name": "ipython",
    "version": 3
   },
   "file_extension": ".py",
   "mimetype": "text/x-python",
   "name": "python",
   "nbconvert_exporter": "python",
   "pygments_lexer": "ipython3",
   "version": "3.9.2"
  }
 },
 "nbformat": 4,
 "nbformat_minor": 5
}
